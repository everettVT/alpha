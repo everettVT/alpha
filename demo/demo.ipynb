{
 "cells": [
  {
   "metadata": {},
   "cell_type": "code",
   "outputs": [],
   "execution_count": null,
   "source": [
    "from dotenv import load_dotenv\n",
    "import mlflow"
   ],
   "id": "319285bbc6fbcf66"
  },
  {
   "metadata": {},
   "cell_type": "code",
   "outputs": [],
   "execution_count": null,
   "source": "load_dotenv()",
   "id": "c7c17bfe1f598df2"
  },
  {
   "cell_type": "code",
   "execution_count": null,
   "id": "initial_id",
   "metadata": {
    "collapsed": true
   },
   "outputs": [],
   "source": [
    "OPENAI_API_KEY = os.environ.get(\"OPENAI_API_KEY\")\n",
    "ANTHROPIC_API_KEY = os.environ.get(\"ANTHROPIC_API_KEY\")\n",
    "HUGGINGFACE_API_KEY = os.environ.get(\"HUGGINGFACE_API_KEY\")\n",
    "GEMINI_API_KEY = os.environ.get(\"GEMINI_API_KEY\")\n",
    "HOST = os.environ.get(\"HOST\")\n",
    "MLFLOW_TRACKING_URI=os.environ['MLFLOW_TRACKING_URI']\n"
   ]
  },
  {
   "metadata": {},
   "cell_type": "code",
   "outputs": [],
   "execution_count": null,
   "source": [
    "mlflow.set_tracking_uri(uri=MLFLOW_TRACKING_URI)\n",
    "\n",
    "mlflow.set_experiment(\"Alpha Quickstart\")\n",
    "\n",
    "with mlflow.start_run() as run:"
   ],
   "id": "3fbd96a3b2b1f510"
  }
 ],
 "metadata": {
  "kernelspec": {
   "display_name": "Python 3",
   "language": "python",
   "name": "python3"
  },
  "language_info": {
   "codemirror_mode": {
    "name": "ipython",
    "version": 2
   },
   "file_extension": ".py",
   "mimetype": "text/x-python",
   "name": "python",
   "nbconvert_exporter": "python",
   "pygments_lexer": "ipython2",
   "version": "2.7.6"
  }
 },
 "nbformat": 4,
 "nbformat_minor": 5
}
